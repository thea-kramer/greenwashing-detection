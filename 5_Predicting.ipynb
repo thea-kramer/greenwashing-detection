{
 "cells": [
  {
   "cell_type": "code",
   "execution_count": 1,
   "metadata": {},
   "outputs": [],
   "source": [
    "import pandas as pd\n",
    "from sklearn.metrics import accuracy_score, precision_score, recall_score, f1_score\n",
    "import nltk\n",
    "from nltk.tokenize import word_tokenize\n",
    "from nltk import pos_tag\n",
    "from nltk.corpus import stopwords\n",
    "from nltk.stem import WordNetLemmatizer\n",
    "from sklearn.preprocessing import LabelEncoder\n",
    "from collections import defaultdict\n",
    "from nltk.corpus import wordnet as wn\n",
    "from sklearn.feature_extraction.text import TfidfVectorizer\n",
    "from sklearn import model_selection, naive_bayes, svm\n",
    "from sklearn.metrics import accuracy_score\n",
    "from sklearn.metrics import confusion_matrix, ConfusionMatrixDisplay\n",
    "from string import punctuation\n",
    "from sklearn import tree\n",
    "import matplotlib.pyplot as plt\n",
    "\n",
    "from sklearn. model_selection import train_test_split \n",
    "from sklearn.utils import resample,shuffle"
   ]
  },
  {
   "attachments": {},
   "cell_type": "markdown",
   "metadata": {},
   "source": [
    "Change the folder either to `instagram_data/` or to `twitter_data/`"
   ]
  },
  {
   "cell_type": "code",
   "execution_count": 2,
   "metadata": {},
   "outputs": [],
   "source": [
    "folder  = 'twitter_data/' #twitter_data/ or instagram_data/"
   ]
  },
  {
   "cell_type": "code",
   "execution_count": 3,
   "metadata": {},
   "outputs": [
    {
     "name": "stderr",
     "output_type": "stream",
     "text": [
      "/var/folders/pv/j2wxhdx50y5fbwqrc2yxqwf00000gn/T/ipykernel_68684/1928277876.py:1: DtypeWarning: Columns (19) have mixed types. Specify dtype option on import or set low_memory=False.\n",
      "  data = pd.read_csv(folder +'posts_processed.csv')\n"
     ]
    }
   ],
   "source": [
    "data = pd.read_csv(folder +'posts_processed.csv')\n",
    "green = pd.read_csv(folder +'green_posts_processed.csv')"
   ]
  },
  {
   "attachments": {},
   "cell_type": "markdown",
   "metadata": {},
   "source": [
    "### Prediction"
   ]
  },
  {
   "cell_type": "code",
   "execution_count": 4,
   "metadata": {},
   "outputs": [
    {
     "ename": "KeyError",
     "evalue": "'green_recall'",
     "output_type": "error",
     "traceback": [
      "\u001b[0;31m---------------------------------------------------------------------------\u001b[0m",
      "\u001b[0;31mKeyError\u001b[0m                                  Traceback (most recent call last)",
      "File \u001b[0;32m/Library/Frameworks/Python.framework/Versions/3.11/lib/python3.11/site-packages/pandas/core/indexes/base.py:3802\u001b[0m, in \u001b[0;36mIndex.get_loc\u001b[0;34m(self, key, method, tolerance)\u001b[0m\n\u001b[1;32m   3801\u001b[0m \u001b[39mtry\u001b[39;00m:\n\u001b[0;32m-> 3802\u001b[0m     \u001b[39mreturn\u001b[39;00m \u001b[39mself\u001b[39;49m\u001b[39m.\u001b[39;49m_engine\u001b[39m.\u001b[39;49mget_loc(casted_key)\n\u001b[1;32m   3803\u001b[0m \u001b[39mexcept\u001b[39;00m \u001b[39mKeyError\u001b[39;00m \u001b[39mas\u001b[39;00m err:\n",
      "File \u001b[0;32m/Library/Frameworks/Python.framework/Versions/3.11/lib/python3.11/site-packages/pandas/_libs/index.pyx:138\u001b[0m, in \u001b[0;36mpandas._libs.index.IndexEngine.get_loc\u001b[0;34m()\u001b[0m\n",
      "File \u001b[0;32m/Library/Frameworks/Python.framework/Versions/3.11/lib/python3.11/site-packages/pandas/_libs/index.pyx:165\u001b[0m, in \u001b[0;36mpandas._libs.index.IndexEngine.get_loc\u001b[0;34m()\u001b[0m\n",
      "File \u001b[0;32mpandas/_libs/hashtable_class_helper.pxi:5745\u001b[0m, in \u001b[0;36mpandas._libs.hashtable.PyObjectHashTable.get_item\u001b[0;34m()\u001b[0m\n",
      "File \u001b[0;32mpandas/_libs/hashtable_class_helper.pxi:5753\u001b[0m, in \u001b[0;36mpandas._libs.hashtable.PyObjectHashTable.get_item\u001b[0;34m()\u001b[0m\n",
      "\u001b[0;31mKeyError\u001b[0m: 'green_recall'",
      "\nThe above exception was the direct cause of the following exception:\n",
      "\u001b[0;31mKeyError\u001b[0m                                  Traceback (most recent call last)",
      "Cell \u001b[0;32mIn[4], line 5\u001b[0m\n\u001b[1;32m      3\u001b[0m df_1 \u001b[39m=\u001b[39m df_1[[\u001b[39m'\u001b[39m\u001b[39mTweets\u001b[39m\u001b[39m'\u001b[39m,\u001b[39m'\u001b[39m\u001b[39mgold_label_sustainability\u001b[39m\u001b[39m'\u001b[39m,\u001b[39m'\u001b[39m\u001b[39mgeneral\u001b[39m\u001b[39m'\u001b[39m,\u001b[39m'\u001b[39m\u001b[39mgreen\u001b[39m\u001b[39m'\u001b[39m]]\n\u001b[1;32m      4\u001b[0m green_measure \u001b[39m=\u001b[39m \u001b[39m'\u001b[39m\u001b[39mgreen_recall\u001b[39m\u001b[39m'\u001b[39m\n\u001b[0;32m----> 5\u001b[0m df_1[\u001b[39m'\u001b[39m\u001b[39mgreen\u001b[39m\u001b[39m'\u001b[39m] \u001b[39m=\u001b[39m df_1[green_measure] \u001b[39m==\u001b[39m \u001b[39m'\u001b[39m\u001b[39mTRUE\u001b[39m\u001b[39m'\u001b[39m\n\u001b[1;32m      6\u001b[0m df_1\u001b[39m.\u001b[39mreset_index(inplace\u001b[39m=\u001b[39m\u001b[39mTrue\u001b[39;00m, drop\u001b[39m=\u001b[39m\u001b[39mTrue\u001b[39;00m)\n\u001b[1;32m      7\u001b[0m \u001b[39mfor\u001b[39;00m column \u001b[39min\u001b[39;00m [\u001b[39m'\u001b[39m\u001b[39mgold_label_sustainability\u001b[39m\u001b[39m'\u001b[39m, \u001b[39m'\u001b[39m\u001b[39mgreen\u001b[39m\u001b[39m'\u001b[39m, \u001b[39m'\u001b[39m\u001b[39mgeneral\u001b[39m\u001b[39m'\u001b[39m]:\n",
      "File \u001b[0;32m/Library/Frameworks/Python.framework/Versions/3.11/lib/python3.11/site-packages/pandas/core/frame.py:3807\u001b[0m, in \u001b[0;36mDataFrame.__getitem__\u001b[0;34m(self, key)\u001b[0m\n\u001b[1;32m   3805\u001b[0m \u001b[39mif\u001b[39;00m \u001b[39mself\u001b[39m\u001b[39m.\u001b[39mcolumns\u001b[39m.\u001b[39mnlevels \u001b[39m>\u001b[39m \u001b[39m1\u001b[39m:\n\u001b[1;32m   3806\u001b[0m     \u001b[39mreturn\u001b[39;00m \u001b[39mself\u001b[39m\u001b[39m.\u001b[39m_getitem_multilevel(key)\n\u001b[0;32m-> 3807\u001b[0m indexer \u001b[39m=\u001b[39m \u001b[39mself\u001b[39;49m\u001b[39m.\u001b[39;49mcolumns\u001b[39m.\u001b[39;49mget_loc(key)\n\u001b[1;32m   3808\u001b[0m \u001b[39mif\u001b[39;00m is_integer(indexer):\n\u001b[1;32m   3809\u001b[0m     indexer \u001b[39m=\u001b[39m [indexer]\n",
      "File \u001b[0;32m/Library/Frameworks/Python.framework/Versions/3.11/lib/python3.11/site-packages/pandas/core/indexes/base.py:3804\u001b[0m, in \u001b[0;36mIndex.get_loc\u001b[0;34m(self, key, method, tolerance)\u001b[0m\n\u001b[1;32m   3802\u001b[0m     \u001b[39mreturn\u001b[39;00m \u001b[39mself\u001b[39m\u001b[39m.\u001b[39m_engine\u001b[39m.\u001b[39mget_loc(casted_key)\n\u001b[1;32m   3803\u001b[0m \u001b[39mexcept\u001b[39;00m \u001b[39mKeyError\u001b[39;00m \u001b[39mas\u001b[39;00m err:\n\u001b[0;32m-> 3804\u001b[0m     \u001b[39mraise\u001b[39;00m \u001b[39mKeyError\u001b[39;00m(key) \u001b[39mfrom\u001b[39;00m \u001b[39merr\u001b[39;00m\n\u001b[1;32m   3805\u001b[0m \u001b[39mexcept\u001b[39;00m \u001b[39mTypeError\u001b[39;00m:\n\u001b[1;32m   3806\u001b[0m     \u001b[39m# If we have a listlike key, _check_indexing_error will raise\u001b[39;00m\n\u001b[1;32m   3807\u001b[0m     \u001b[39m#  InvalidIndexError. Otherwise we fall through and re-raise\u001b[39;00m\n\u001b[1;32m   3808\u001b[0m     \u001b[39m#  the TypeError.\u001b[39;00m\n\u001b[1;32m   3809\u001b[0m     \u001b[39mself\u001b[39m\u001b[39m.\u001b[39m_check_indexing_error(key)\n",
      "\u001b[0;31mKeyError\u001b[0m: 'green_recall'"
     ]
    }
   ],
   "source": [
    "df_1 = pd.read_csv('twitter_data/test_sets/test_set.csv')\n",
    "df_1 = df_1[:1000]\n",
    "df_1 = df_1[['Tweets','gold_label_sustainability','general','green']]\n",
    "df_1['green'] = df_1['green'] == 'TRUE'\n",
    "df_1.reset_index(inplace=True, drop=True)\n",
    "for column in ['gold_label_sustainability', 'green', 'general']:\n",
    "    df_1[column] = df_1[column].apply(lambda x: 1 if x == True else 0 )\n",
    "df_1"
   ]
  },
  {
   "cell_type": "code",
   "execution_count": 199,
   "metadata": {},
   "outputs": [
    {
     "data": {
      "text/html": [
       "<div>\n",
       "<style scoped>\n",
       "    .dataframe tbody tr th:only-of-type {\n",
       "        vertical-align: middle;\n",
       "    }\n",
       "\n",
       "    .dataframe tbody tr th {\n",
       "        vertical-align: top;\n",
       "    }\n",
       "\n",
       "    .dataframe thead th {\n",
       "        text-align: right;\n",
       "    }\n",
       "</style>\n",
       "<table border=\"1\" class=\"dataframe\">\n",
       "  <thead>\n",
       "    <tr style=\"text-align: right;\">\n",
       "      <th></th>\n",
       "      <th>Tweets</th>\n",
       "      <th>gold_label_sustainability</th>\n",
       "      <th>general</th>\n",
       "      <th>green</th>\n",
       "    </tr>\n",
       "  </thead>\n",
       "  <tbody>\n",
       "    <tr>\n",
       "      <th>0</th>\n",
       "      <td>Heute schon en:formiert? Neu im #enformerblog:...</td>\n",
       "      <td>1</td>\n",
       "      <td>1</td>\n",
       "      <td>1</td>\n",
       "    </tr>\n",
       "    <tr>\n",
       "      <th>1</th>\n",
       "      <td>Walter Leitner, professor at the @RWTH Aachen ...</td>\n",
       "      <td>1</td>\n",
       "      <td>1</td>\n",
       "      <td>1</td>\n",
       "    </tr>\n",
       "    <tr>\n",
       "      <th>2</th>\n",
       "      <td>Greece’s 🇬🇷 #decarbonization journey is not an...</td>\n",
       "      <td>1</td>\n",
       "      <td>1</td>\n",
       "      <td>1</td>\n",
       "    </tr>\n",
       "    <tr>\n",
       "      <th>3</th>\n",
       "      <td>#DeutschePostDHL mit umweltfreundlichem Versan...</td>\n",
       "      <td>1</td>\n",
       "      <td>1</td>\n",
       "      <td>1</td>\n",
       "    </tr>\n",
       "    <tr>\n",
       "      <th>4</th>\n",
       "      <td>Exploring the role of transport in a world bel...</td>\n",
       "      <td>1</td>\n",
       "      <td>1</td>\n",
       "      <td>1</td>\n",
       "    </tr>\n",
       "    <tr>\n",
       "      <th>...</th>\n",
       "      <td>...</td>\n",
       "      <td>...</td>\n",
       "      <td>...</td>\n",
       "      <td>...</td>\n",
       "    </tr>\n",
       "    <tr>\n",
       "      <th>306</th>\n",
       "      <td>#Greece: rapprochement in the debate over debt...</td>\n",
       "      <td>0</td>\n",
       "      <td>0</td>\n",
       "      <td>1</td>\n",
       "    </tr>\n",
       "    <tr>\n",
       "      <th>307</th>\n",
       "      <td>“More is better” is a relic of the past – we a...</td>\n",
       "      <td>1</td>\n",
       "      <td>1</td>\n",
       "      <td>1</td>\n",
       "    </tr>\n",
       "    <tr>\n",
       "      <th>308</th>\n",
       "      <td>And... 𝗜𝗧's 𝗔👌🏻1st flight for @ITAAirways' #A3...</td>\n",
       "      <td>1</td>\n",
       "      <td>0</td>\n",
       "      <td>1</td>\n",
       "    </tr>\n",
       "    <tr>\n",
       "      <th>309</th>\n",
       "      <td>As part of HRH The Prince of Wales’ @TheSMI, t...</td>\n",
       "      <td>1</td>\n",
       "      <td>1</td>\n",
       "      <td>1</td>\n",
       "    </tr>\n",
       "    <tr>\n",
       "      <th>310</th>\n",
       "      <td>What are the latest #innovations at Henkel? 🔬 ...</td>\n",
       "      <td>1</td>\n",
       "      <td>1</td>\n",
       "      <td>1</td>\n",
       "    </tr>\n",
       "  </tbody>\n",
       "</table>\n",
       "<p>311 rows × 4 columns</p>\n",
       "</div>"
      ],
      "text/plain": [
       "                                                Tweets  \\\n",
       "0    Heute schon en:formiert? Neu im #enformerblog:...   \n",
       "1    Walter Leitner, professor at the @RWTH Aachen ...   \n",
       "2    Greece’s 🇬🇷 #decarbonization journey is not an...   \n",
       "3    #DeutschePostDHL mit umweltfreundlichem Versan...   \n",
       "4    Exploring the role of transport in a world bel...   \n",
       "..                                                 ...   \n",
       "306  #Greece: rapprochement in the debate over debt...   \n",
       "307  “More is better” is a relic of the past – we a...   \n",
       "308  And... 𝗜𝗧's 𝗔👌🏻1st flight for @ITAAirways' #A3...   \n",
       "309  As part of HRH The Prince of Wales’ @TheSMI, t...   \n",
       "310  What are the latest #innovations at Henkel? 🔬 ...   \n",
       "\n",
       "     gold_label_sustainability  general  green  \n",
       "0                            1        1      1  \n",
       "1                            1        1      1  \n",
       "2                            1        1      1  \n",
       "3                            1        1      1  \n",
       "4                            1        1      1  \n",
       "..                         ...      ...    ...  \n",
       "306                          0        0      1  \n",
       "307                          1        1      1  \n",
       "308                          1        0      1  \n",
       "309                          1        1      1  \n",
       "310                          1        1      1  \n",
       "\n",
       "[311 rows x 4 columns]"
      ]
     },
     "execution_count": 199,
     "metadata": {},
     "output_type": "execute_result"
    }
   ],
   "source": [
    "df_2 = pd.read_csv('twitter_data/test_sets/test_set_2.csv')\n",
    "df_2 = df_2[:311]\n",
    "df_2 = df_2[['Tweets','gold_label_sustainability','general','green']]\n",
    "df_2.reset_index(inplace=True, drop=True)\n",
    "for column in ['gold_label_sustainability', 'green', 'general']:\n",
    "    df_2[column] = df_2[column].apply(lambda x: 1 if x == True else 0 )\n",
    "df_2"
   ]
  },
  {
   "cell_type": "code",
   "execution_count": 200,
   "metadata": {},
   "outputs": [
    {
     "data": {
      "text/html": [
       "<div>\n",
       "<style scoped>\n",
       "    .dataframe tbody tr th:only-of-type {\n",
       "        vertical-align: middle;\n",
       "    }\n",
       "\n",
       "    .dataframe tbody tr th {\n",
       "        vertical-align: top;\n",
       "    }\n",
       "\n",
       "    .dataframe thead th {\n",
       "        text-align: right;\n",
       "    }\n",
       "</style>\n",
       "<table border=\"1\" class=\"dataframe\">\n",
       "  <thead>\n",
       "    <tr style=\"text-align: right;\">\n",
       "      <th></th>\n",
       "      <th>Tweets</th>\n",
       "      <th>gold_label_sustainability</th>\n",
       "      <th>general</th>\n",
       "      <th>green</th>\n",
       "    </tr>\n",
       "  </thead>\n",
       "  <tbody>\n",
       "    <tr>\n",
       "      <th>0</th>\n",
       "      <td>RT @SustainBrands: WEBINAR: Gain insights into...</td>\n",
       "      <td>1</td>\n",
       "      <td>1</td>\n",
       "      <td>1</td>\n",
       "    </tr>\n",
       "    <tr>\n",
       "      <th>1</th>\n",
       "      <td>RT @AmChemistry: ACC's Steve Russell speaks wi...</td>\n",
       "      <td>1</td>\n",
       "      <td>1</td>\n",
       "      <td>1</td>\n",
       "    </tr>\n",
       "    <tr>\n",
       "      <th>2</th>\n",
       "      <td>Reliably integrate renewable energy sources in...</td>\n",
       "      <td>1</td>\n",
       "      <td>1</td>\n",
       "      <td>1</td>\n",
       "    </tr>\n",
       "    <tr>\n",
       "      <th>3</th>\n",
       "      <td>Ja, es gibt sie wirklich, die Deutsche Schneep...</td>\n",
       "      <td>0</td>\n",
       "      <td>0</td>\n",
       "      <td>0</td>\n",
       "    </tr>\n",
       "    <tr>\n",
       "      <th>4</th>\n",
       "      <td>Looks like it might be time to get our groove ...</td>\n",
       "      <td>0</td>\n",
       "      <td>0</td>\n",
       "      <td>0</td>\n",
       "    </tr>\n",
       "    <tr>\n",
       "      <th>...</th>\n",
       "      <td>...</td>\n",
       "      <td>...</td>\n",
       "      <td>...</td>\n",
       "      <td>...</td>\n",
       "    </tr>\n",
       "    <tr>\n",
       "      <th>1306</th>\n",
       "      <td>#Greece: rapprochement in the debate over debt...</td>\n",
       "      <td>0</td>\n",
       "      <td>0</td>\n",
       "      <td>1</td>\n",
       "    </tr>\n",
       "    <tr>\n",
       "      <th>1307</th>\n",
       "      <td>“More is better” is a relic of the past – we a...</td>\n",
       "      <td>1</td>\n",
       "      <td>1</td>\n",
       "      <td>1</td>\n",
       "    </tr>\n",
       "    <tr>\n",
       "      <th>1308</th>\n",
       "      <td>And... 𝗜𝗧's 𝗔👌🏻1st flight for @ITAAirways' #A3...</td>\n",
       "      <td>1</td>\n",
       "      <td>0</td>\n",
       "      <td>1</td>\n",
       "    </tr>\n",
       "    <tr>\n",
       "      <th>1309</th>\n",
       "      <td>As part of HRH The Prince of Wales’ @TheSMI, t...</td>\n",
       "      <td>1</td>\n",
       "      <td>1</td>\n",
       "      <td>1</td>\n",
       "    </tr>\n",
       "    <tr>\n",
       "      <th>1310</th>\n",
       "      <td>What are the latest #innovations at Henkel? 🔬 ...</td>\n",
       "      <td>1</td>\n",
       "      <td>1</td>\n",
       "      <td>1</td>\n",
       "    </tr>\n",
       "  </tbody>\n",
       "</table>\n",
       "<p>1311 rows × 4 columns</p>\n",
       "</div>"
      ],
      "text/plain": [
       "                                                 Tweets  \\\n",
       "0     RT @SustainBrands: WEBINAR: Gain insights into...   \n",
       "1     RT @AmChemistry: ACC's Steve Russell speaks wi...   \n",
       "2     Reliably integrate renewable energy sources in...   \n",
       "3     Ja, es gibt sie wirklich, die Deutsche Schneep...   \n",
       "4     Looks like it might be time to get our groove ...   \n",
       "...                                                 ...   \n",
       "1306  #Greece: rapprochement in the debate over debt...   \n",
       "1307  “More is better” is a relic of the past – we a...   \n",
       "1308  And... 𝗜𝗧's 𝗔👌🏻1st flight for @ITAAirways' #A3...   \n",
       "1309  As part of HRH The Prince of Wales’ @TheSMI, t...   \n",
       "1310  What are the latest #innovations at Henkel? 🔬 ...   \n",
       "\n",
       "      gold_label_sustainability  general  green  \n",
       "0                             1        1      1  \n",
       "1                             1        1      1  \n",
       "2                             1        1      1  \n",
       "3                             0        0      0  \n",
       "4                             0        0      0  \n",
       "...                         ...      ...    ...  \n",
       "1306                          0        0      1  \n",
       "1307                          1        1      1  \n",
       "1308                          1        0      1  \n",
       "1309                          1        1      1  \n",
       "1310                          1        1      1  \n",
       "\n",
       "[1311 rows x 4 columns]"
      ]
     },
     "execution_count": 200,
     "metadata": {},
     "output_type": "execute_result"
    }
   ],
   "source": [
    "merged = pd.concat([df_1, df_2])\n",
    "merged.reset_index(inplace=True, drop=True)\n",
    "merged"
   ]
  },
  {
   "cell_type": "code",
   "execution_count": 201,
   "metadata": {},
   "outputs": [
    {
     "data": {
      "text/html": [
       "<div>\n",
       "<style scoped>\n",
       "    .dataframe tbody tr th:only-of-type {\n",
       "        vertical-align: middle;\n",
       "    }\n",
       "\n",
       "    .dataframe tbody tr th {\n",
       "        vertical-align: top;\n",
       "    }\n",
       "\n",
       "    .dataframe thead th {\n",
       "        text-align: right;\n",
       "    }\n",
       "</style>\n",
       "<table border=\"1\" class=\"dataframe\">\n",
       "  <thead>\n",
       "    <tr style=\"text-align: right;\">\n",
       "      <th></th>\n",
       "      <th>Tweets</th>\n",
       "      <th>gold_label_sustainability</th>\n",
       "      <th>general</th>\n",
       "      <th>green</th>\n",
       "    </tr>\n",
       "  </thead>\n",
       "  <tbody>\n",
       "    <tr>\n",
       "      <th>0</th>\n",
       "      <td>RT @SustainBrands: WEBINAR: Gain insights into...</td>\n",
       "      <td>1</td>\n",
       "      <td>1</td>\n",
       "      <td>1</td>\n",
       "    </tr>\n",
       "    <tr>\n",
       "      <th>1</th>\n",
       "      <td>RT @AmChemistry: ACC's Steve Russell speaks wi...</td>\n",
       "      <td>1</td>\n",
       "      <td>1</td>\n",
       "      <td>1</td>\n",
       "    </tr>\n",
       "    <tr>\n",
       "      <th>2</th>\n",
       "      <td>Reliably integrate renewable energy sources in...</td>\n",
       "      <td>1</td>\n",
       "      <td>1</td>\n",
       "      <td>1</td>\n",
       "    </tr>\n",
       "    <tr>\n",
       "      <th>3</th>\n",
       "      <td>RT @Siemens_Aus: Did you know that Siemens is ...</td>\n",
       "      <td>1</td>\n",
       "      <td>1</td>\n",
       "      <td>1</td>\n",
       "    </tr>\n",
       "    <tr>\n",
       "      <th>4</th>\n",
       "      <td>RT @PghBizTimes: .@CovestroGroup and @penguins...</td>\n",
       "      <td>1</td>\n",
       "      <td>1</td>\n",
       "      <td>1</td>\n",
       "    </tr>\n",
       "    <tr>\n",
       "      <th>...</th>\n",
       "      <td>...</td>\n",
       "      <td>...</td>\n",
       "      <td>...</td>\n",
       "      <td>...</td>\n",
       "    </tr>\n",
       "    <tr>\n",
       "      <th>502</th>\n",
       "      <td>RT @SiemensII  #Solar panels &amp;amp; #Siemens mi...</td>\n",
       "      <td>1</td>\n",
       "      <td>0</td>\n",
       "      <td>1</td>\n",
       "    </tr>\n",
       "    <tr>\n",
       "      <th>503</th>\n",
       "      <td>“More is better” is a relic of the past – we a...</td>\n",
       "      <td>1</td>\n",
       "      <td>1</td>\n",
       "      <td>1</td>\n",
       "    </tr>\n",
       "    <tr>\n",
       "      <th>504</th>\n",
       "      <td>And... 𝗜𝗧's 𝗔👌🏻1st flight for @ITAAirways' #A3...</td>\n",
       "      <td>1</td>\n",
       "      <td>0</td>\n",
       "      <td>1</td>\n",
       "    </tr>\n",
       "    <tr>\n",
       "      <th>505</th>\n",
       "      <td>As part of HRH The Prince of Wales’ @TheSMI, t...</td>\n",
       "      <td>1</td>\n",
       "      <td>1</td>\n",
       "      <td>1</td>\n",
       "    </tr>\n",
       "    <tr>\n",
       "      <th>506</th>\n",
       "      <td>What are the latest #innovations at Henkel? 🔬 ...</td>\n",
       "      <td>1</td>\n",
       "      <td>1</td>\n",
       "      <td>1</td>\n",
       "    </tr>\n",
       "  </tbody>\n",
       "</table>\n",
       "<p>507 rows × 4 columns</p>\n",
       "</div>"
      ],
      "text/plain": [
       "                                                Tweets  \\\n",
       "0    RT @SustainBrands: WEBINAR: Gain insights into...   \n",
       "1    RT @AmChemistry: ACC's Steve Russell speaks wi...   \n",
       "2    Reliably integrate renewable energy sources in...   \n",
       "3    RT @Siemens_Aus: Did you know that Siemens is ...   \n",
       "4    RT @PghBizTimes: .@CovestroGroup and @penguins...   \n",
       "..                                                 ...   \n",
       "502  RT @SiemensII  #Solar panels &amp; #Siemens mi...   \n",
       "503  “More is better” is a relic of the past – we a...   \n",
       "504  And... 𝗜𝗧's 𝗔👌🏻1st flight for @ITAAirways' #A3...   \n",
       "505  As part of HRH The Prince of Wales’ @TheSMI, t...   \n",
       "506  What are the latest #innovations at Henkel? 🔬 ...   \n",
       "\n",
       "     gold_label_sustainability  general  green  \n",
       "0                            1        1      1  \n",
       "1                            1        1      1  \n",
       "2                            1        1      1  \n",
       "3                            1        1      1  \n",
       "4                            1        1      1  \n",
       "..                         ...      ...    ...  \n",
       "502                          1        0      1  \n",
       "503                          1        1      1  \n",
       "504                          1        0      1  \n",
       "505                          1        1      1  \n",
       "506                          1        1      1  \n",
       "\n",
       "[507 rows x 4 columns]"
      ]
     },
     "execution_count": 201,
     "metadata": {},
     "output_type": "execute_result"
    }
   ],
   "source": [
    "general_df = merged[merged['gold_label_sustainability']==1]\n",
    "general_df.reset_index(inplace=True, drop=True)\n",
    "general_df"
   ]
  },
  {
   "attachments": {},
   "cell_type": "markdown",
   "metadata": {},
   "source": [
    "### Quality measures and confusion matrix for the \"green\" query "
   ]
  },
  {
   "attachments": {},
   "cell_type": "markdown",
   "metadata": {},
   "source": [
    "Metrics for the first test set (test set with 1000 Tweets):"
   ]
  },
  {
   "cell_type": "code",
   "execution_count": 202,
   "metadata": {},
   "outputs": [
    {
     "name": "stdout",
     "output_type": "stream",
     "text": [
      "Accuracy: 92.2 %\n",
      "Precision: 79.24 %\n",
      "Recall: 92.71 %\n",
      "F1-Score: 85.45 %\n"
     ]
    }
   ],
   "source": [
    "print(\"Accuracy:\", round(100* accuracy_score(df_1['gold_label_sustainability'], df_1['green']),2),\"%\")\n",
    "print(\"Precision:\", round(100* precision_score(df_1['gold_label_sustainability'], df_1['green']),2),\"%\")\n",
    "print(\"Recall:\", round(100* recall_score(df_1['gold_label_sustainability'], df_1['green']),2),\"%\")\n",
    "print(\"F1-Score:\", round(100* f1_score(df_1['gold_label_sustainability'], df_1['green']),2),\"%\")"
   ]
  },
  {
   "cell_type": "code",
   "execution_count": 203,
   "metadata": {},
   "outputs": [
    {
     "data": {
      "image/png": "[encoded data removed]",
      "text/plain": [
       "<Figure size 640x480 with 2 Axes>"
      ]
     },
     "metadata": {},
     "output_type": "display_data"
    }
   ],
   "source": [
    "cm = confusion_matrix(df_1['gold_label_sustainability'], df_1['green'])\n",
    "disp = ConfusionMatrixDisplay(confusion_matrix=cm)\n",
    "disp.plot()\n",
    "plt.show()"
   ]
  },
  {
   "attachments": {},
   "cell_type": "markdown",
   "metadata": {},
   "source": [
    "Metrics for the large test set (test set with 1311 Tweets)"
   ]
  },
  {
   "cell_type": "code",
   "execution_count": 204,
   "metadata": {},
   "outputs": [
    {
     "name": "stdout",
     "output_type": "stream",
     "text": [
      "Accuracy: 90.16 %\n",
      "Precision: 81.5 %\n",
      "Recall: 96.45 %\n",
      "F1-Score: 88.35 %\n"
     ]
    }
   ],
   "source": [
    "print(\"Accuracy:\", round(100* accuracy_score(merged['gold_label_sustainability'], merged['green']),2),\"%\")\n",
    "print(\"Precision:\", round(100* precision_score(merged['gold_label_sustainability'], merged['green']),2),\"%\")\n",
    "print(\"Recall:\", round(100* recall_score(merged['gold_label_sustainability'], merged['green']),2),\"%\")\n",
    "print(\"F1-Score:\", round(100* f1_score(merged['gold_label_sustainability'], merged['green']),2),\"%\")"
   ]
  },
  {
   "cell_type": "code",
   "execution_count": 205,
   "metadata": {},
   "outputs": [
    {
     "data": {
      "image/png": "[encoded data removed]",
      "text/plain": [
       "<Figure size 640x480 with 2 Axes>"
      ]
     },
     "metadata": {},
     "output_type": "display_data"
    }
   ],
   "source": [
    "cm = confusion_matrix(merged['gold_label_sustainability'], merged['green'])\n",
    "disp = ConfusionMatrixDisplay(confusion_matrix=cm)\n",
    "disp.plot()\n",
    "plt.show()"
   ]
  },
  {
   "cell_type": "code",
   "execution_count": 206,
   "metadata": {},
   "outputs": [
    {
     "data": {
      "text/html": [
       "<div>\n",
       "<style scoped>\n",
       "    .dataframe tbody tr th:only-of-type {\n",
       "        vertical-align: middle;\n",
       "    }\n",
       "\n",
       "    .dataframe tbody tr th {\n",
       "        vertical-align: top;\n",
       "    }\n",
       "\n",
       "    .dataframe thead th {\n",
       "        text-align: right;\n",
       "    }\n",
       "</style>\n",
       "<table border=\"1\" class=\"dataframe\">\n",
       "  <thead>\n",
       "    <tr style=\"text-align: right;\">\n",
       "      <th></th>\n",
       "      <th>Tweets</th>\n",
       "      <th>gold_label_sustainability</th>\n",
       "      <th>general</th>\n",
       "      <th>green</th>\n",
       "    </tr>\n",
       "  </thead>\n",
       "  <tbody>\n",
       "    <tr>\n",
       "      <th>0</th>\n",
       "      <td>RT @SustainBrands: WEBINAR: Gain insights into...</td>\n",
       "      <td>1</td>\n",
       "      <td>1</td>\n",
       "      <td>1</td>\n",
       "    </tr>\n",
       "    <tr>\n",
       "      <th>1</th>\n",
       "      <td>RT @AmChemistry: ACC's Steve Russell speaks wi...</td>\n",
       "      <td>1</td>\n",
       "      <td>1</td>\n",
       "      <td>1</td>\n",
       "    </tr>\n",
       "    <tr>\n",
       "      <th>2</th>\n",
       "      <td>Reliably integrate renewable energy sources in...</td>\n",
       "      <td>1</td>\n",
       "      <td>1</td>\n",
       "      <td>1</td>\n",
       "    </tr>\n",
       "    <tr>\n",
       "      <th>3</th>\n",
       "      <td>RT @Siemens_Aus: Did you know that Siemens is ...</td>\n",
       "      <td>1</td>\n",
       "      <td>1</td>\n",
       "      <td>1</td>\n",
       "    </tr>\n",
       "    <tr>\n",
       "      <th>4</th>\n",
       "      <td>RT @PghBizTimes: .@CovestroGroup and @penguins...</td>\n",
       "      <td>1</td>\n",
       "      <td>1</td>\n",
       "      <td>1</td>\n",
       "    </tr>\n",
       "    <tr>\n",
       "      <th>...</th>\n",
       "      <td>...</td>\n",
       "      <td>...</td>\n",
       "      <td>...</td>\n",
       "      <td>...</td>\n",
       "    </tr>\n",
       "    <tr>\n",
       "      <th>502</th>\n",
       "      <td>RT @SiemensII  #Solar panels &amp;amp; #Siemens mi...</td>\n",
       "      <td>1</td>\n",
       "      <td>0</td>\n",
       "      <td>1</td>\n",
       "    </tr>\n",
       "    <tr>\n",
       "      <th>503</th>\n",
       "      <td>“More is better” is a relic of the past – we a...</td>\n",
       "      <td>1</td>\n",
       "      <td>1</td>\n",
       "      <td>1</td>\n",
       "    </tr>\n",
       "    <tr>\n",
       "      <th>504</th>\n",
       "      <td>And... 𝗜𝗧's 𝗔👌🏻1st flight for @ITAAirways' #A3...</td>\n",
       "      <td>1</td>\n",
       "      <td>0</td>\n",
       "      <td>1</td>\n",
       "    </tr>\n",
       "    <tr>\n",
       "      <th>505</th>\n",
       "      <td>As part of HRH The Prince of Wales’ @TheSMI, t...</td>\n",
       "      <td>1</td>\n",
       "      <td>1</td>\n",
       "      <td>1</td>\n",
       "    </tr>\n",
       "    <tr>\n",
       "      <th>506</th>\n",
       "      <td>What are the latest #innovations at Henkel? 🔬 ...</td>\n",
       "      <td>1</td>\n",
       "      <td>1</td>\n",
       "      <td>1</td>\n",
       "    </tr>\n",
       "  </tbody>\n",
       "</table>\n",
       "<p>507 rows × 4 columns</p>\n",
       "</div>"
      ],
      "text/plain": [
       "                                                Tweets  \\\n",
       "0    RT @SustainBrands: WEBINAR: Gain insights into...   \n",
       "1    RT @AmChemistry: ACC's Steve Russell speaks wi...   \n",
       "2    Reliably integrate renewable energy sources in...   \n",
       "3    RT @Siemens_Aus: Did you know that Siemens is ...   \n",
       "4    RT @PghBizTimes: .@CovestroGroup and @penguins...   \n",
       "..                                                 ...   \n",
       "502  RT @SiemensII  #Solar panels &amp; #Siemens mi...   \n",
       "503  “More is better” is a relic of the past – we a...   \n",
       "504  And... 𝗜𝗧's 𝗔👌🏻1st flight for @ITAAirways' #A3...   \n",
       "505  As part of HRH The Prince of Wales’ @TheSMI, t...   \n",
       "506  What are the latest #innovations at Henkel? 🔬 ...   \n",
       "\n",
       "     gold_label_sustainability  general  green  \n",
       "0                            1        1      1  \n",
       "1                            1        1      1  \n",
       "2                            1        1      1  \n",
       "3                            1        1      1  \n",
       "4                            1        1      1  \n",
       "..                         ...      ...    ...  \n",
       "502                          1        0      1  \n",
       "503                          1        1      1  \n",
       "504                          1        0      1  \n",
       "505                          1        1      1  \n",
       "506                          1        1      1  \n",
       "\n",
       "[507 rows x 4 columns]"
      ]
     },
     "execution_count": 206,
     "metadata": {},
     "output_type": "execute_result"
    }
   ],
   "source": [
    "general_df"
   ]
  },
  {
   "attachments": {},
   "cell_type": "markdown",
   "metadata": {},
   "source": [
    "### Machine Learning Approaches"
   ]
  },
  {
   "attachments": {},
   "cell_type": "markdown",
   "metadata": {},
   "source": [
    "In the following, different machine learing algorithms are presented to either predict whether a post is sustainable or whether a sustainable post has a specific claim or not"
   ]
  },
  {
   "attachments": {},
   "cell_type": "markdown",
   "metadata": {},
   "source": [
    "set df to `merged` for predicting sustainability or `general_df` for predicting general claims"
   ]
  },
  {
   "cell_type": "code",
   "execution_count": 207,
   "metadata": {},
   "outputs": [],
   "source": [
    "df = general_df \n",
    "gold_label = 'general'"
   ]
  },
  {
   "cell_type": "code",
   "execution_count": 208,
   "metadata": {},
   "outputs": [
    {
     "name": "stderr",
     "output_type": "stream",
     "text": [
      "[nltk_data] Downloading package punkt to\n",
      "[nltk_data]     /Users/theakramer/nltk_data...\n",
      "[nltk_data]   Package punkt is already up-to-date!\n",
      "[nltk_data] Downloading package wordnet to\n",
      "[nltk_data]     /Users/theakramer/nltk_data...\n",
      "[nltk_data]   Package wordnet is already up-to-date!\n",
      "[nltk_data] Downloading package averaged_perceptron_tagger to\n",
      "[nltk_data]     /Users/theakramer/nltk_data...\n",
      "[nltk_data]   Package averaged_perceptron_tagger is already up-to-\n",
      "[nltk_data]       date!\n"
     ]
    },
    {
     "data": {
      "text/plain": [
       "True"
      ]
     },
     "execution_count": 208,
     "metadata": {},
     "output_type": "execute_result"
    }
   ],
   "source": [
    "import nltk\n",
    "import ssl\n",
    "\n",
    "try:\n",
    "    _create_unverified_https_context = ssl._create_unverified_context\n",
    "except AttributeError:\n",
    "    pass\n",
    "else:\n",
    "    ssl._create_default_https_context = _create_unverified_https_context\n",
    "\n",
    "nltk.download('punkt')\n",
    "nltk.download('wordnet')\n",
    "nltk.download('averaged_perceptron_tagger')"
   ]
  },
  {
   "cell_type": "code",
   "execution_count": 209,
   "metadata": {},
   "outputs": [],
   "source": [
    "def preprocess(df):\n",
    "    df['Tweets'] = df['Tweets'].astype(str)\n",
    "    df['Tweets'] = [entry.lower() for entry in df['Tweets']]\n",
    "    df['Tweets']= [word_tokenize(entry) for entry in df['Tweets']]\n",
    "    # WordNetLemmatizer requires Pos tags to understand if the word is noun or verb or adjective etc. By default it is set to Noun\n",
    "    tag_map = defaultdict(lambda : wn.NOUN)\n",
    "    tag_map['J'] = wn.ADJ\n",
    "    tag_map['V'] = wn.VERB\n",
    "    tag_map['R'] = wn.ADV\n",
    "    for index,entry in enumerate(df['Tweets']):\n",
    "        Final_words = []\n",
    "        word_Lemmatized = WordNetLemmatizer()\n",
    "        for word, tag in pos_tag(entry):\n",
    "            if word not in stopwords.words('english') and word not in stopwords.words('german') and not any(p in word for p in punctuation):# and word.isalpha():\n",
    "                word_Final = word_Lemmatized.lemmatize(word,tag_map[tag[0]])\n",
    "                Final_words.append(word_Final)\n",
    "        # The final processed set of words for each iteration will be stored in 'text_final'\n",
    "        df.loc[index,'text_final'] = str(Final_words)\n",
    "    return df"
   ]
  },
  {
   "cell_type": "code",
   "execution_count": 210,
   "metadata": {},
   "outputs": [
    {
     "name": "stderr",
     "output_type": "stream",
     "text": [
      "/var/folders/pv/j2wxhdx50y5fbwqrc2yxqwf00000gn/T/ipykernel_61833/2454451067.py:2: SettingWithCopyWarning: \n",
      "A value is trying to be set on a copy of a slice from a DataFrame.\n",
      "Try using .loc[row_indexer,col_indexer] = value instead\n",
      "\n",
      "See the caveats in the documentation: https://pandas.pydata.org/pandas-docs/stable/user_guide/indexing.html#returning-a-view-versus-a-copy\n",
      "  df['Tweets'] = df['Tweets'].astype(str)\n",
      "/var/folders/pv/j2wxhdx50y5fbwqrc2yxqwf00000gn/T/ipykernel_61833/2454451067.py:3: SettingWithCopyWarning: \n",
      "A value is trying to be set on a copy of a slice from a DataFrame.\n",
      "Try using .loc[row_indexer,col_indexer] = value instead\n",
      "\n",
      "See the caveats in the documentation: https://pandas.pydata.org/pandas-docs/stable/user_guide/indexing.html#returning-a-view-versus-a-copy\n",
      "  df['Tweets'] = [entry.lower() for entry in df['Tweets']]\n",
      "/var/folders/pv/j2wxhdx50y5fbwqrc2yxqwf00000gn/T/ipykernel_61833/2454451067.py:4: SettingWithCopyWarning: \n",
      "A value is trying to be set on a copy of a slice from a DataFrame.\n",
      "Try using .loc[row_indexer,col_indexer] = value instead\n",
      "\n",
      "See the caveats in the documentation: https://pandas.pydata.org/pandas-docs/stable/user_guide/indexing.html#returning-a-view-versus-a-copy\n",
      "  df['Tweets']= [word_tokenize(entry) for entry in df['Tweets']]\n",
      "/var/folders/pv/j2wxhdx50y5fbwqrc2yxqwf00000gn/T/ipykernel_61833/2454451067.py:18: SettingWithCopyWarning: \n",
      "A value is trying to be set on a copy of a slice from a DataFrame.\n",
      "Try using .loc[row_indexer,col_indexer] = value instead\n",
      "\n",
      "See the caveats in the documentation: https://pandas.pydata.org/pandas-docs/stable/user_guide/indexing.html#returning-a-view-versus-a-copy\n",
      "  df.loc[index,'text_final'] = str(Final_words)\n"
     ]
    }
   ],
   "source": [
    "df = preprocess(df)\n",
    "greens = df[df[gold_label]==False]\n",
    "spam_upsample = resample(greens, replace=True,n_samples= df.shape[0] - greens.shape[0], random_state=42)\n",
    "df_resampled = pd.concat([df[df[gold_label]==True], spam_upsample])\n",
    "Train_X, Test_X, Train_Y, Test_Y = model_selection.train_test_split(df_resampled['text_final'],df_resampled[gold_label],test_size=0.3)\n",
    "#Train_X, Test_X, Train_Y, Test_Y = model_selection.train_test_split(df['text_final'],df[gold_label],stratify=df[gold_label], test_size=0.3)"
   ]
  },
  {
   "cell_type": "code",
   "execution_count": 211,
   "metadata": {},
   "outputs": [],
   "source": [
    "def vectorize_data(df, X):\n",
    "    Tfidf_vect = TfidfVectorizer(max_features=5000)\n",
    "    Tfidf_vect.fit(df['text_final'])\n",
    "    return Tfidf_vect.transform(X)\n",
    "\n",
    "def encode_labels(Y):\n",
    "    Encoder = LabelEncoder()\n",
    "    return Encoder.fit_transform(Y)\n",
    "\n",
    "Train_X_Tfidf = vectorize_data(df, Train_X)\n",
    "Train_Y = encode_labels(Train_Y)\n",
    "Test_X_Tfidf = vectorize_data(df, Test_X)\n",
    "Test_Y = encode_labels(Test_Y)"
   ]
  },
  {
   "cell_type": "code",
   "execution_count": 212,
   "metadata": {},
   "outputs": [
    {
     "name": "stdout",
     "output_type": "stream",
     "text": [
      "Naive Bayes Accuracy Score ->  84.34782608695653\n",
      "Naive Bayes Recall Score ->  77.98165137614679\n",
      "Naive Bayes Precision Score ->  87.62886597938144\n",
      "Naive Bayes F1 Score ->  82.52427184466019\n"
     ]
    },
    {
     "data": {
      "image/png": "[encoded data removed]",
      "text/plain": [
       "<Figure size 640x480 with 2 Axes>"
      ]
     },
     "metadata": {},
     "output_type": "display_data"
    }
   ],
   "source": [
    "# fit the training dataset on the NB classifier\n",
    "Naive = naive_bayes.MultinomialNB(\n",
    "    #class_prior = [0.3,0.7]\n",
    "    )\n",
    "Naive.fit(Train_X_Tfidf,Train_Y)\n",
    "# predict the labels on validation dataset\n",
    "predictions_NB = Naive.predict(Test_X_Tfidf)\n",
    "# Use accuracy_score function to get the accuracy\n",
    "print(\"Naive Bayes Accuracy Score -> \",accuracy_score(Test_Y, predictions_NB)*100)\n",
    "print(\"Naive Bayes Recall Score -> \",recall_score(Test_Y, predictions_NB)*100)\n",
    "print(\"Naive Bayes Precision Score -> \",precision_score(Test_Y, predictions_NB)*100)\n",
    "print(\"Naive Bayes F1 Score -> \",f1_score(Test_Y, predictions_NB)*100)\n",
    "cm = confusion_matrix(Test_Y, predictions_NB)\n",
    "disp = ConfusionMatrixDisplay(confusion_matrix=cm)\n",
    "disp.plot()\n",
    "plt.show()"
   ]
  },
  {
   "cell_type": "code",
   "execution_count": 192,
   "metadata": {},
   "outputs": [
    {
     "name": "stdout",
     "output_type": "stream",
     "text": [
      "SVM Accuracy Score ->  47.391304347826086\n",
      "SVM Recall Score ->  100.0\n",
      "SVM Precision Score ->  47.161572052401745\n",
      "SVM F1 Score ->  64.09495548961425\n"
     ]
    },
    {
     "data": {
      "image/png": "[encoded data removed]",
      "text/plain": [
       "<Figure size 640x480 with 2 Axes>"
      ]
     },
     "metadata": {},
     "output_type": "display_data"
    }
   ],
   "source": [
    "# Classifier - Algorithm - SVM\n",
    "# fit the training dataset on the classifier\n",
    "SVM = svm.SVC(C=1.0, kernel='linear', degree=3, gamma='auto')\n",
    "SVM.fit(Train_X_Tfidf,Train_Y)\n",
    "# predict the labels on validation dataset\n",
    "predictions_SVM = SVM.predict(Test_X_Tfidf)\n",
    "# Use accuracy_score function to get the accuracy\n",
    "print(\"SVM Accuracy Score -> \",accuracy_score(Test_Y, predictions_SVM)*100)\n",
    "print(\"SVM Recall Score -> \",recall_score(Test_Y, predictions_SVM)*100)\n",
    "print(\"SVM Precision Score -> \",precision_score(Test_Y, predictions_SVM)*100)\n",
    "print(\"SVM F1 Score -> \",f1_score(Test_Y, predictions_SVM)*100)\n",
    "cm = confusion_matrix(Test_Y, predictions_SVM,)\n",
    "disp = ConfusionMatrixDisplay(confusion_matrix=cm)\n",
    "disp.plot()\n",
    "plt.show()"
   ]
  },
  {
   "cell_type": "code",
   "execution_count": 180,
   "metadata": {},
   "outputs": [
    {
     "name": "stdout",
     "output_type": "stream",
     "text": [
      "Decision Tree Accuracy Score ->  81.30434782608695\n",
      "Decision Tree Recall Score ->  68.14159292035397\n",
      "Decision Tree Precision Score ->  91.66666666666666\n",
      "Decision Tree F1 Score ->  78.1725888324873\n"
     ]
    },
    {
     "data": {
      "image/png": "[encoded data removed]",
      "text/plain": [
       "<Figure size 640x480 with 2 Axes>"
      ]
     },
     "metadata": {},
     "output_type": "display_data"
    }
   ],
   "source": [
    "# Classifier - Algorithm - SVM\n",
    "# fit the training dataset on the classifier\n",
    "clf = tree.DecisionTreeClassifier()\n",
    "clf.fit(Train_X_Tfidf,Train_Y)\n",
    "# predict the labels on validation dataset\n",
    "predictions_DT = clf.predict(Test_X_Tfidf)\n",
    "# Use accuracy_score function to get the accuracy\n",
    "print(\"Decision Tree Accuracy Score -> \",accuracy_score(Test_Y, predictions_DT )*100)\n",
    "print(\"Decision Tree Recall Score -> \",recall_score(Test_Y, predictions_DT )*100)\n",
    "print(\"Decision Tree Precision Score -> \",precision_score(Test_Y, predictions_DT )*100)\n",
    "print(\"Decision Tree F1 Score -> \",f1_score(Test_Y, predictions_DT )*100)\n",
    "cm = confusion_matrix(Test_Y, predictions_DT ,)\n",
    "disp = ConfusionMatrixDisplay(confusion_matrix=cm)\n",
    "disp.plot()\n",
    "plt.show()"
   ]
  },
  {
   "cell_type": "code",
   "execution_count": 213,
   "metadata": {},
   "outputs": [],
   "source": [
    "dfr = pd.DataFrame(Test_X)\n",
    "dfr = dfr.reset_index(level=0)\n",
    "dfr['predictions_svm'] = pd.DataFrame(predictions_SVM)\n",
    "dfr['correct'] = pd.DataFrame(Test_Y)\n",
    "dfr.to_csv('predictions0802.csv', header=True, index=False, columns=list(dfr.axes[1]))\n"
   ]
  },
  {
   "cell_type": "code",
   "execution_count": 216,
   "metadata": {},
   "outputs": [],
   "source": [
    "preprocessed = preprocess(green)\n",
    "final_data = vectorize_data(preprocessed, preprocessed['text_final'])"
   ]
  },
  {
   "cell_type": "code",
   "execution_count": null,
   "metadata": {},
   "outputs": [],
   "source": [
    "predictions_final = SVM.predict(final_data)\n",
    "print(predictions_final)"
   ]
  },
  {
   "cell_type": "code",
   "execution_count": 105,
   "metadata": {},
   "outputs": [
    {
     "data": {
      "image/png": "[encoded data removed]",
      "text/plain": [
       "<Figure size 432x288 with 1 Axes>"
      ]
     },
     "metadata": {
      "needs_background": "light"
     },
     "output_type": "display_data"
    }
   ],
   "source": [
    "from sklearn import tree\n",
    "tree.plot_tree(clf)\n",
    "plt.savefig('decision_tree.pdf') "
   ]
  },
  {
   "cell_type": "code",
   "execution_count": null,
   "metadata": {},
   "outputs": [],
   "source": []
  }
 ],
 "metadata": {
  "kernelspec": {
   "display_name": "Python 3",
   "language": "python",
   "name": "python3"
  },
  "language_info": {
   "codemirror_mode": {
    "name": "ipython",
    "version": 3
   },
   "file_extension": ".py",
   "mimetype": "text/x-python",
   "name": "python",
   "nbconvert_exporter": "python",
   "pygments_lexer": "ipython3",
   "version": "3.11.2"
  },
  "orig_nbformat": 4,
  "vscode": {
   "interpreter": {
    "hash": "aee8b7b246df8f9039afb4144a1f6fd8d2ca17a180786b69acc140d282b71a49"
   }
  }
 },
 "nbformat": 4,
 "nbformat_minor": 2
}
